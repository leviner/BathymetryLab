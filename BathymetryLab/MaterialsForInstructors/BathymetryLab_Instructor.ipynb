{
 "cells": [
  {
   "cell_type": "markdown",
   "metadata": {},
   "source": [
    "<h1><center> Mapping the Seafloor: For Instructor</center></h1>\n",
    "\n",
    "## Overview\n",
    "For this activity, students will be using a waterproof version of the **HCSR04** 40 kHz ultrasonic sensor called a **JSN-SR04** to determine the bathymetry of a body of water.  The JSN-SR04 sensor sends out a pulse of sound through one transducer, and listens for the echo return in the second transducer. Based on the delay between sending the signal and receiving an echo back, you can determine how far away an object is from the sensor.\n",
    "\n",
    "We recommend the following activity milestones for the students:\n",
    "1. Submit your figure of the bathymetry along the dock\n",
    "2. Submit the python code used to create your figure\n",
    "\n",
    "In addiition, students should provide a 2-3 sentence response addressing the following questions:\n",
    "- Why might you have gotten inconsistent readings when taking measurements off of the dock?\n",
    "- If you were to use an underwater echosounder in Puget Sound instead of Portage Bay, how and why might you expect the speed of sound to differ?\n",
    "\n",
    "## Assembling your HCSR04 Sensor\n",
    "Begin by connecting your **JSN-SR04** to your **ESP8266**.  The JSN-SR04 requires 5 volts, so for this excersize you will use your microcontroller in a breadboard, powered by the USB cable from your computer.  The USB cable provides 5V to the board, which means we can use the *V+* pin on the ESP8266 to give 5V to the JSN-SR04.\n",
    "\n",
    "The JSN-SR04 sensor has 4 pins, *GND*, *VCC*, *Trig*, and *Echo*.  For this excercise, connect the *trig* pin on the JSN-SR04 to GPIO \\#12 on the ESP8266, and the *echo* pin to GPIO \\#14.  Connect *GND* to *GND* and *VCC* to *V+*.\n",
    "\n",
    "The driver for this sensor is already included in the firmware on your **ESP8266** as a module named `hcsr04`.  The `hcsr04.HCSR04` class requires three input variables:\n",
    "- `trigger_pin`,  the GPIO pin on the ESP8266 corresponding to the **Trig** pin on the JSN-SR04\n",
    "- `echo_pin`,  the GPIO pin on the ESP8266 corresponding to the **Echo** pin on the JSN-SR04\n",
    "- `c`, the speed of sound to use to calculate distance\n",
    "\n",
    "We will begin by estimating that the speed of sound in water is **1500 meters per second**, so we will set our variable `c` to 300 and we can define our sensor using the following code:\n",
    "\n",
    "`import hcsr04\n",
    "sensor = hcsr04.HCSR04(trigger_pin = 12, echo_pin = 14, c = 1500)`\n",
    "\n",
    "\n",
    "## Measuring Distance\n",
    "Once your sensor variable is defined, you can take a measurement by executing the function `distance`:\n",
    "\n",
    "`sensor.distance()`\n",
    "\n",
    "Your ESP8266 should return a float value that corresponds to the distance of the object in front of the sensor in **millimeters**.  Try pointing your sensor at an object, moving it closer and further away while taking measurements to see how the value changes.\n",
    "\n",
    "## Bathymetry Measurements\n",
    "You will be using the HCSR04 to collect measurements of depth at a series of fixed positions along the dock.  Using the tape measure, start at the western corner of the dock and sample every 2 meters moving east.  At each sampling location, lower the transducer into the water to the tape mark indicating 10cm is at the surface.  Collect five samples at each fixed distance point.  Record your data in the following format:\n",
    "\n",
    "\n",
    "|Distance on Dock (m) | Depth (mm)|\n",
    "|----|----|\n",
    "|1| Measurement \\#1,  \\#2,  \\#3,  \\#4,  \\#5|\n",
    "|2| Measurement \\#1,  \\#2,  \\#3,  \\#4,  \\#5|\n",
    "|...|...|\n",
    "|*n*| Measurement \\#1,  \\#2,  \\#3,  \\#4,  \\#5|\n",
    "\n",
    "Are your measurements at every sampling locations consistent?  Do all of the values collected appear to be valid?\n",
    "\n",
    "Once your sample table is complete, create a plot of the bathymetry in *Canopy* using the Python code below.  For the depth value at each sampling location, take the median of the measurements at each distance that you believe to be correct in order to remove bad samples or noise.  "
   ]
  },
  {
   "cell_type": "code",
   "execution_count": 4,
   "metadata": {},
   "outputs": [
    {
     "data": {
      "image/png": "[encoded data removed]",
      "text/plain": [
       "<matplotlib.figure.Figure at 0x1514d0aeeb8>"
      ]
     },
     "metadata": {},
     "output_type": "display_data"
    }
   ],
   "source": [
    "import matplotlib.pyplot as plt # Import the pyplot library\n",
    "import numpy as np # Import the numpy library\n",
    "\n",
    "# Create an array of values for the distance along the dock\n",
    "Distance = np.array([1, 2, 3, 4, 5, 6, 7, 8, 9, 10])\n",
    "# Create an array of values for the distance measured by the sensor (in mm)\n",
    "Depth = np.array([396.0, 397.0, 399.0, 400.0, 401.0, 406.0, 407.0, 404.0, 405.0, 411.0])\n",
    "Depth = Depth+100. # Add 10cm to the measurements to correct for the depth of the transducer\n",
    "plt.plot(Distance,Depth) # Plot the depth at each distance\n",
    "plt.ylim((0,max(Depth))) # Set the y-axis limits\n",
    "plt.gca().invert_yaxis() # Invert the y-axis so the water surface is at the top of the figure\n",
    "plt.xlabel('Distance (m)') # Label the x-axis\n",
    "plt.ylabel('Depth (mm)') # Label the y-axis\n",
    "plt.show() # Show the figure"
   ]
  },
  {
   "cell_type": "markdown",
   "metadata": {},
   "source": [
    "What features, if any, do you see along the bottom?  "
   ]
  }
 ],
 "metadata": {
  "kernelspec": {
   "display_name": "Python 3",
   "language": "python",
   "name": "python3"
  },
  "language_info": {
   "codemirror_mode": {
    "name": "ipython",
    "version": 3
   },
   "file_extension": ".py",
   "mimetype": "text/x-python",
   "name": "python",
   "nbconvert_exporter": "python",
   "pygments_lexer": "ipython3",
   "version": "3.7.4"
  }
 },
 "nbformat": 4,
 "nbformat_minor": 4
}
