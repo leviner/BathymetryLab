{
 "cells": [
  {
   "cell_type": "markdown",
   "metadata": {},
   "source": [
    "<h1><center>Mapping the Seafloor</center></h1>\n",
    "\n",
    "## Milestone Items\n",
    "The following are required to complete the milestone for this exercise:\n",
    "1. Submit your figure of the bathymetry along the dock\n",
    "2. Submit the python code used to create your figure\n",
    "\n",
    "Provide a 2-3 sentence response addressing the following milestone questions:\n",
    "- Why might you have gotten inconsistent readings when taking measurements off of the dock?\n",
    "- If you were to use an underwater echosounder in Puget Sound instead of Portage Bay, how and why might you expect the speed of sound to differ?\n",
    "\n",
    "## Overview\n",
    "For this activity, you will be using a **HCSR04** 40 kHz ultrasonic sensor to determine the bathymetry along the dock.  The HCSR04 sensor sends out a pulse of sound through one transducer, and listens for the echo return in the second transducer.  Based on the delay between sending the signal and receiving an echo back, you will be able to determine how far away an object is from the sensor.\n",
    "\n",
    "This activity uses the waterproof transducer version of the HCSR04 ultrasonic acoustic sensor called a **JSN-SR04** to create a rough bathymetric chart of a region of off a pier or dock.  For this excercise you will collect measurements of the depth to the seafloor along the dock with 1 meter spacing.\n",
    "\n",
    "## Bathymetry Measurements\n",
    "You will be using the JSN-SR04 to collect measurements of depth at a series of fixed positions along the dock.\n",
    "\n",
    "### Setting the Sound Speed\n",
    "First, we need to define the sound speed of the water so we can get a correct measure from distance.  Recall from Part 1 that slight changes in sound speed affect the distance calculated.  We'll define sound speed as the following:\n"
   ]
  },
  {
   "cell_type": "code",
   "execution_count": null,
   "metadata": {},
   "outputs": [],
   "source": [
    "soundSpeed = [1440] # a list of sound speeds, i.e., can be range() or [200]"
   ]
  },
  {
   "cell_type": "markdown",
   "metadata": {},
   "source": [
    "### Prepare to Store the Data\n",
    "\n",
    "Now let's get set up to take some measurements.  We're going to store the measurements in a python dictionary, so let's make an empty one:"
   ]
  },
  {
   "cell_type": "code",
   "execution_count": null,
   "metadata": {},
   "outputs": [],
   "source": [
    "allSamples = {} # let's make an empty dictionary that we'll fill"
   ]
  },
  {
   "cell_type": "markdown",
   "metadata": {},
   "source": [
    "### Set up the Sensor\n",
    "\n",
    "Like in Part 1, we're going to have to tell the microcontroller where the acoustic sensor is plugged in, we we can define those two pins below:"
   ]
  },
  {
   "cell_type": "code",
   "execution_count": null,
   "metadata": {},
   "outputs": [],
   "source": [
    "triggerPin = 12 #board pin number to 'Trig' on sensor\n",
    "echoPin = 14 #board pin number to 'Echo' on sensor"
   ]
  },
  {
   "cell_type": "markdown",
   "metadata": {},
   "source": [
    "To actually take the measurements, we're going to use `pySerial` like in Part 1.  The following function will be used to send those commands and return a measurement which will be stored in the dictionary we just created. Read through the function below so you understand what is being done, and run the cell so that we can use it. "
   ]
  },
  {
   "cell_type": "code",
   "execution_count": null,
   "metadata": {},
   "outputs": [],
   "source": [
    "def dist(triggerPin,echoPin,soundSpeed,site,allSamples): #We give the function the pins for the board, soundspeed, measurement site, and our dictionary\n",
    "    for speed in soundSpeed: # for each sound speed (here, only for the 1 value)\n",
    "        command = 'sensor = hcsr04v2.HCSR04(trigger_pin = '+str(triggerPin)+', echo_pin = '+str(echoPin)+', c = '+str(speed)+')\\r' # set up the sensor on the microcontroller\n",
    "        ser.write(bytes(command, 'utf-8')) # send the command\n",
    "        ser.write(b'sensor.distance()\\r') # take a distance measurement\n",
    "        sleep(.5) # wait for .5 seconds for the sensor to respond\n",
    "        input_data = ser.read(ser.inWaiting()) # read the response\n",
    "        print('Command Sent: '+ str(input_data).split('\\\\r\\\\n>>')[0]) # print out what we sent\n",
    "        print('Distance measured: ',float(str(input_data).split('\\\\n')[2][:-2])) # print out the response\n",
    "        if site in allSamples: # if the site number is already a key in the dictionary...\n",
    "            allSamples[site].append(float(str(input_data).split('\\\\n')[2][:-2])+100) # append the new measurement to that site list\n",
    "        else: # if this is a new site and doesn't have a key yet...\n",
    "            allSamples[site] = [float(str(input_data).split('\\\\n')[2][:-2])+100] # make a new key and give it the measurement value\n",
    "        return allSamples # send us back the updated dictionary"
   ]
  },
  {
   "cell_type": "markdown",
   "metadata": {},
   "source": [
    "### Collecting Data\n",
    "\n",
    "Following the tape measure, walk along the dock and take a measurements at the sites spaced 1 meter apart.  Lower the transducer into the water to the tape mark indicating 10cm is at the surface.\n",
    "\n",
    "Start by setting the site number (which is the same as the meter marker on the tape measure, i.e., 10 meters is site 10):"
   ]
  },
  {
   "cell_type": "code",
   "execution_count": null,
   "metadata": {},
   "outputs": [],
   "source": [
    "site = 1 # Change this value for each site"
   ]
  },
  {
   "cell_type": "markdown",
   "metadata": {},
   "source": [
    "Next, use the code cell below to collect a sample, and repeat to collect 5 samples at each site.  Do all of the values collected appear to be similar?  Do you think they are correct?"
   ]
  },
  {
   "cell_type": "code",
   "execution_count": null,
   "metadata": {},
   "outputs": [],
   "source": [
    "allSamples = dist(triggerPin,echoPin,soundSpeed,site,allSamples)\n",
    "print('Measurements for Site '+ str(site), allSamples[site])"
   ]
  },
  {
   "cell_type": "markdown",
   "metadata": {},
   "source": [
    "We can look at the entire dictionary by running the cell below:"
   ]
  },
  {
   "cell_type": "code",
   "execution_count": null,
   "metadata": {},
   "outputs": [],
   "source": [
    "print(allSamples)"
   ]
  },
  {
   "cell_type": "markdown",
   "metadata": {},
   "source": [
    "In case you take a measurement by mistake and need to remove it, you can use `allSamples[`*Site Number*`].remove(`*Bad Value*`)` to remove it from the site key.\n",
    "\n",
    "Once your sample table is complete, create a plot using the cell below.  Add a title and axis labels."
   ]
  },
  {
   "cell_type": "code",
   "execution_count": null,
   "metadata": {},
   "outputs": [],
   "source": [
    "plt.plot(list(allSamples.keys()),list(allSamples.values()),'.b')\n",
    "plt.gca().invert_yaxis()"
   ]
  },
  {
   "cell_type": "markdown",
   "metadata": {},
   "source": [
    "If you have time, try making a new plot using the data in your dictionary that shows the median of the measurements at each distance that you believe to be correct in order to remove noise.  "
   ]
  }
 ],
 "metadata": {
  "kernelspec": {
   "display_name": "Python 3",
   "language": "python",
   "name": "python3"
  },
  "language_info": {
   "codemirror_mode": {
    "name": "ipython",
    "version": 3
   },
   "file_extension": ".py",
   "mimetype": "text/x-python",
   "name": "python",
   "nbconvert_exporter": "python",
   "pygments_lexer": "ipython3",
   "version": "3.7.4"
  }
 },
 "nbformat": 4,
 "nbformat_minor": 4
}
