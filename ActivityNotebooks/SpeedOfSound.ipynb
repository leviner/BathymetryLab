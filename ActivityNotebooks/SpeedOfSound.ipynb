{
 "cells": [
  {
   "cell_type": "markdown",
   "metadata": {},
   "source": [
    "<h1><center>Determining the Speed of Sound in Air</center></h1>\n",
    "\n",
    "## Milestone Items\n",
    "The following are required to complete the milestone for this exercise:\n",
    "1. Present your estimated value of the speed of sound in air\n",
    "2. Submit all three figures you generate using your three lists of `c` values\n",
    "3. Submit the python code used to create the three figures\n",
    "    \n",
    "Provide a 2-3 sentence response addressing the following milestone questions:\n",
    "- What would you do to improve the accuracy of your measurement when estimating the speed of sound in air?\n",
    "\n",
    "## Overview\n",
    "For this activity, you will be using a **HCSR04** 40 kHz ultrasonic sensor to determine the speed of sound in air.  This sensor sends out a pulse of sound through one transducer, and listens for the echo return in the second transducer.  Based on the delay between sending the signal and receiving an echo back, you will be able to determine how far away an object is from the sensor.\n",
    "\n",
    "In this instance we are unsure of the speed of sound in air.  By collecting measurements at a known distance, we can see how changing the speed of sound affects the accuracy of distance the sensor calculates, and narrow in on the correct value.  \n",
    "\n",
    "<img src=\"images\\FeatherHCSR04.png\" width=\"400\">\n",
    "\n",
    "## Assembling the HCSR04 Sensor\n",
    "Begin by connecting your **HCSR04** to your **ESP8266**.  The HCSR04 requires 5 volts, so for this excersize you will use your microcontroller in a breadboard, powered by the USB cable from your computer.  The USB cable provides 5V to the board, which means we can use the *V+* pin on the ESP8266 to give 5V to the HCSR04.\n",
    "\n",
    "The HCSR04 sensor has 4 pins, *GND*, *VCC*, *Trig*, and *Echo*.  For this excercise, connect the *trig* pin on the HCSR04 to GPIO \\#12 on the ESP8266, and the *echo* pin to GPIO \\#14.  Connect *GND* to *GND* and *VCC* to *V+*.\n",
    "\n",
    "The driver for this sensor is already included in the firmware on your **ESP8266** as a module named `hcsr04`.  The `hcsr04.HCSR04` class requires three input variables:\n",
    "- `trigger_pin`,  the GPIO pin on the ESP8266 corresponding to the **Trig** pin on the HCSR04\n",
    "- `echo_pin`,  the GPIO pin on the ESP8266 corresponding to the **Echo** pin on the HCSR04\n",
    "- `c`, the speed of sound to use to calculate distance\n",
    "\n",
    "We will begin by estimating that the speed of sound in air is **300 meters per second**, so we will set our variable `c` to 300 and we can define our sensor using the following code:\n",
    "```python\n",
    "import hcsr04\n",
    "sensor = hcsr04.HCSR04(trigger_pin = 12, echo_pin = 14, c = 300)\n",
    "```\n",
    "\n",
    "\n",
    "## Measuring Distance\n",
    "Once your sensor variable is defined, you can take a measurement by executing the function `distance`:\n",
    "\n",
    "```python\n",
    "sensor.distance()\n",
    "```\n",
    "\n",
    "Your ESP8266 should return a float value that corresponds to the distance of the object in front of the sensor in **millimeters**.  Try pointing your sensor at an object, moving it closer and further away while taking measurements to see how the value changes.\n",
    "\n",
    "## Estimating `c`\n",
    "We are now going to record a series of measurements at a known distance while adjusting sound speed (`c`) to determine the correct value.  \n",
    "\n",
    "First, lets define `c` as a list of test values (as floats) by entering a new variable on the ESP8266:\n",
    "```python\n",
    "c = [100., 150., 200., 250., 300., 350., 400., 450.]\n",
    "```\n",
    "\n",
    "Use the following code to collect distance measurements at each value of `c` that you just defined on your ESP8266:"
   ]
  },
  {
   "cell_type": "code",
   "execution_count": null,
   "metadata": {},
   "outputs": [],
   "source": [
    "import utime # Import the utime library\n",
    "distance = [] # Define a holding variable for your distance values to be appended \n",
    "for speed in c: # For each value of c... \n",
    "    # Define our sensor variable for that c\n",
    "    sensor = hcsr04.HCSR04(trigger_pin = 12, echo_pin = 14, c = speed) \n",
    "    dist = sensor.distance() # Take a measurement and assign it to our variable 'dist'\n",
    "    print(dist) # Display the measurement\n",
    "    distance.append(dist) # Add the measurement to our 'distance' list\n",
    "    utime.sleep(1) # Wait 1 second before beginning the loop for the next c"
   ]
  },
  {
   "cell_type": "markdown",
   "metadata": {},
   "source": [
    "When your `for` loop is complete, use `print(distance)` to see the list of distances collected by the sensor for each value of `c`.\n",
    "\n",
    "We can now start to look at how the distances we measured match up with the distance that we expected.  Using *Canopy*, edit the code below to plot the values of `distance` determined by your sensor."
   ]
  },
  {
   "cell_type": "code",
   "execution_count": null,
   "metadata": {},
   "outputs": [],
   "source": [
    "import matplotlib.pyplot as plt\n",
    "import numpy as np\n",
    "\n",
    "# Create an array of the values of c that were used to calculate distance\n",
    "c = np.array([100., 150., 200., 250., 300., 350., 400., 450.])\n",
    "# Create an array of the values of 'distance' measured by your sensor\n",
    "distance_measured = np.array([])\n",
    "\n",
    "# Create a plot that shows the relationship between 'c' and 'distance'\n",
    "plt.plot(c,distance_measured)\n",
    "# Draw a line at the known distance\n",
    "# Insert the expected measurement (in mm) as y in the line below\n",
    "plt.axhline(y= ,linestyle='--')\n",
    "plt.xlabel('Speed of Sound (m/s)')\n",
    "plt.ylabel('Distance From Target (mm)')\n",
    "plt.show()"
   ]
  },
  {
   "cell_type": "markdown",
   "metadata": {},
   "source": [
    "Based on the intercept of the dashed line (your known distance) and the solid line (the measured distance at sound speed *c*), create a new list of values for `c` at a finer resolution (intervals of 5?  intervals of 3?) that will help you zoom in on the value of that intercept.\n",
    "\n",
    "Define a new set of values for `c` on your ESP8266 as you did above, and determine a new set of vales for `distance`.  Copy and edit the code you ran in canopy, inserting your new values of `c` and `distance` to create a second figure."
   ]
  },
  {
   "cell_type": "markdown",
   "metadata": {},
   "source": [
    "Try increasing the resolution of  `c` one more time, trying values with an interval of 1.  Again, define a new set of values for `c` on your ESP8266 and determine a new set of vales for `distance`.  Create a third figure with the data."
   ]
  },
  {
   "cell_type": "markdown",
   "metadata": {},
   "source": [
    "Based on the data and figures, what do you estimate the speed of sound in air to be?  What do you notice about the variability in the distance measurements as you increase the resolution of your list of values for `c`?  What would you do to improve accuracy of your measurement?\n",
    "\n",
    "Now that you have a more accurate value for the speed of sound, test the limits of your sensor.  Does there appear to be a minimum distance you can measure?  Does there appear to be a maximum distance?  What happens when it seems like you might be too far away or too close to take a measurement?"
   ]
  }
 ],
 "metadata": {
  "kernelspec": {
   "display_name": "Python 3",
   "language": "python",
   "name": "python3"
  },
  "language_info": {
   "codemirror_mode": {
    "name": "ipython",
    "version": 3
   },
   "file_extension": ".py",
   "mimetype": "text/x-python",
   "name": "python",
   "nbconvert_exporter": "python",
   "pygments_lexer": "ipython3",
   "version": "3.7.4"
  }
 },
 "nbformat": 4,
 "nbformat_minor": 4
}
