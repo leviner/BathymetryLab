{
 "cells": [
  {
   "cell_type": "markdown",
   "metadata": {},
   "source": [
    "<h1><center>Laboratory Exercise: Acoustic Sensors</center></h1>\n",
    "\n",
    "## Milestone Items\n",
    "The following are required to complete the milestone for this exercise:\n",
    "- Part 1\n",
    "    1. Publish your estimated value of the speed of sound in air to the class MQTT server\n",
    "    2. Submit to Canvas all three figures you generate using your three lists of values for speed of sound\n",
    "    3. Submit to Canvas the python code used to create the three figures\n",
    "- Part 2\n",
    "    1. Submit to Canvas your figure of the bathymetry along the dock\n",
    "    2. Submit to Canvas the python code used to create your figure\n",
    "    \n",
    "Provide a 2-3 sentence response addressing the questions proposed on the milestone.\n",
    "\n",
    "\n",
    "# Part 1: Determining the Speed of Sound in Air\n",
    "\n",
    "For this activity, you will be using a **HCSR04** 40 kHz ultrasonic sensor to determine the speed of sound in air.  This sensor sends out a pulse of sound through one transducer, and listens for the echo return in the second transducer.  Based on the delay between sending the signal and receiving an echo back, you will be able to determine how far away an object is from the sensor.\n",
    "\n",
    "In this instance we are unsure of the speed of sound in air.  By collecting measurements at a known distance, we can see how changing the speed of sound affects the accuracy of distance the sensor calculates, and narrow in on the correct value.  \n",
    "\n",
    "## Assembling the HCSR04 Sensor\n",
    "Begin by connecting your **HCSR04** to your **ESP8266**.  The HCSR04 requires 5 volts, so for this excersize you will use your microcontroller in a breadboard, powered by the USB cable from your computer.  The USB cable provides 5V to the board, which means we can use the *V+* pin on the ESP8266 to give 5V to the HCSR04.\n",
    "\n",
    "The HCSR04 sensor has 4 pins, *GND*, *VCC*, *Trig*, and *Echo*.  For this excercise, connect the *trig* pin on the HCSR04 to GPIO \\#12 on the ESP8266, and the *echo* pin to GPIO \\#14.  Connect *GND* to *GND* and *VCC* to *V+*.\n",
    "\n",
    "The driver for this sensor is already included in the firmware on your **ESP8266** as a module named `hcsr04`.  The `hcsr04.HCSR04` class requires three input variables:\n",
    "- `trigger_pin`,  the GPIO pin on the ESP8266 corresponding to the **Trig** pin on the HCSR04\n",
    "- `echo_pin`,  the GPIO pin on the ESP8266 corresponding to the **Echo** pin on the HCSR04\n",
    "- `c`, the speed of sound to use to calculate distance\n",
    "\n",
    "We will begin by estimating that the speed of sound in air is **300 meters per second**, so we will set our variable `c` to 300 and we can define our sensor using the following code:\n",
    "\n",
    "`import hcsr04\n",
    "sensor = hcsr04.HCSR04(trigger_pin = 12, echo_pin = 14, c = 300)`\n",
    "\n",
    "\n",
    "## Measuring Distance\n",
    "Once your sensor variable is defined, you can take a measurement by executing the function `distance`:\n",
    "\n",
    "`sensor.distance()`\n",
    "\n",
    "Your ESP8266 should return a float value that corresponds to the distance of the object in front of the sensor in **millimeters**.  Try pointing your sensor at an object, moving it closer and further away while taking measurements to see how the value changes.\n",
    "\n",
    "## Estimating `c`\n",
    "We are now going to record a series of measurements at a known distance while adjusting sound speed (`c`) to determine the correct value.  \n",
    "\n",
    "First, lets define `c` as a list of test values (as floats) by entering a new variable on the ESP8266:\n",
    "\n",
    "`c = [100., 150., 200., 250., 300., 350., 400., 450.]`\n",
    "\n",
    "Use the following code to collect distance measurements at each value of `c` that you just defined on your ESP8266:"
   ]
  },
  {
   "cell_type": "code",
   "execution_count": null,
   "metadata": {},
   "outputs": [],
   "source": [
    "import utime # Import the utime library\n",
    "distance = [] # Define a holding variable for your distance values to be appended \n",
    "for speed in c: # For each value of c... \n",
    "    # Define our sensor variable for that c\n",
    "    sensor = hcsr04.HCSR04(trigger_pin = 12, echo_pin = 14, c = speed) \n",
    "    dist = sensor.distance() # Take a measurement and assign it to our variable 'dist'\n",
    "    print(dist) # Display the measurement\n",
    "    distance.append(dist) # Add the measurement to our 'distance' list\n",
    "    utime.sleep(1) # Wait 1 second before beginning the loop for the next c"
   ]
  },
  {
   "cell_type": "markdown",
   "metadata": {},
   "source": [
    "When your `for` loop is complete, use `print(distance)` to see the list of distances collected by the sensor for each value of `c`.\n",
    "\n",
    "We can now start to look at how the distances we measured match up with the distance that we expected.  Using *Canopy*, edit the code below to plot the values of `distance` determined by your sensor."
   ]
  },
  {
   "cell_type": "code",
   "execution_count": null,
   "metadata": {},
   "outputs": [],
   "source": [
    "import matplotlib.pyplot as plt\n",
    "import numpy as np\n",
    "\n",
    "# Create an array of the values of c that were used to calculate distance\n",
    "c = np.array([100., 150., 200., 250., 300., 350., 400., 450.])\n",
    "# Create an array of the values of 'distance' measured by your sensor\n",
    "distance_measured = np.array([])\n",
    "\n",
    "# Create a plot that shows the relationship between 'c' and 'distance'\n",
    "plt.plot(c,distance_measured)\n",
    "# Draw a line at the known distance\n",
    "# Insert the expected measurement (in mm) as y in the line below\n",
    "plt.axhline(y= ,linestyle='--')\n",
    "plt.xlabel('Speed of Sound (m/s)')\n",
    "plt.ylabel('Distance From Target (mm)')\n",
    "plt.show()"
   ]
  },
  {
   "cell_type": "markdown",
   "metadata": {},
   "source": [
    "Based on the intercept of the dashed line (your known distance) and the solid line (the measured distance at sound speed *c*), create a new list of values for `c` at a finer resolution (intervals of 5?  intervals of 3?) that will help you zoom in on the value of that intercept.\n",
    "\n",
    "Define a new set of values for `c` on your ESP8266 as you did above, and determine a new set of vales for `distance`.  Copy and edit the code you ran in canopy, inserting your new values of `c` and `distance` to create a second figure."
   ]
  },
  {
   "cell_type": "markdown",
   "metadata": {},
   "source": [
    "Try increasing the resolution of  `c` one more time, trying values with an interval of 1.  Again, define a new set of values for `c` on your ESP8266 and determine a new set of vales for `distance`.  Create a third figure with the data."
   ]
  },
  {
   "cell_type": "markdown",
   "metadata": {},
   "source": [
    "Based on the data and figures, what do you estimate the speed of sound in air to be?  What do you notice about the variability in the distance measurements as you increase the resolution of your list of values for `c`?  What would you do to improve accuracy of your measurement?\n",
    "\n",
    "Now that you have a more accurate value for the speed of sound, test the limits of your sensor.  Does there appear to be a minimum distance you can measure?  Does there appear to be a maximum distance?  What happens when it seems like you might be too far away or too close to take a measurement?\n",
    "\n",
    "Connect your ESP8266 to the OTCnet network and submit your estimated value for speed of sound as a message to the MQTT server in the form of a string to the **oc351/c_values** topic by editing the following code wherever there are '\\*' (don't include the '\\*' in your code):"
   ]
  },
  {
   "cell_type": "code",
   "execution_count": null,
   "metadata": {},
   "outputs": [],
   "source": [
    "from simple import MQTTClient\n",
    "from time import sleep_ms\n",
    "server='192.168.89.97'\n",
    "# Insert your client name (i.e, 'Robert')\n",
    "umqtt_client ='*Your Name*'\n",
    "# Insert your username and passwrod (i.e, user='Robert')\n",
    "c = MQTTClient(umqtt_client, server,user='*Your Username*',password='*Your Password*')\n",
    "sleep_ms(2000)      # sleep for 2 s\n",
    "c.connect()\n",
    "sleep_ms(2000)      # sleep for 2 s\n",
    "pub_topic='ocn351/'+'c_values'\n",
    "# Insert your name and your final value of c\n",
    "msg='*Your Name*' + str(*Your Speed of Sound Value*)\n",
    "c.publish(pub_topic,msg,qos=1,retain=True)"
   ]
  },
  {
   "cell_type": "markdown",
   "metadata": {},
   "source": [
    "# Part 2: Mapping the Seafloor\n",
    "\n",
    "For this activity, you will be using a **HCSR04** 40 kHz ultrasonic sensor to determine the bathymetry along the MSB dock.  The HCSR04 sensor sends out a pulse of sound through one transducer, and listens for the echo return in the second transducer.  Based on the delay between sending the signal and receiving an echo back, you will be able to determine how far away an object is from the sensor.\n",
    "\n",
    "This activity uses the waterproof transducer version of the HCSR04 ultrasonic acoustic sensor to create a rough bathymetric chart.  For this excercise you will collect measurements of the depth to the seafloor along the Marine Sciences Building dock with 1 meter spacing between soundings.\n",
    "\n",
    "## Assembling your HCSR04 Sensor\n",
    "Begin by connecting your **HCSR04** to your **ESP8266**.  The HCSR04 requires 5 volts, so for this excersize you will use your microcontroller in a breadboard, powered by the USB cable from your computer.  The USB cable provides 5V to the board, which means we can use the *V+* pin on the ESP8266 to give 5V to the HCSR04.\n",
    "\n",
    "The HCSR04 sensor has 4 pins, *GND*, *VCC*, *Trig*, and *Echo*.  For this excercise, connect the *trig* pin on the HCSR04 to GPIO \\#12 on the ESP8266, and the *echo* pin to GPIO \\#14.  Connect *GND* to *GND* and *VCC* to *V+*.\n",
    "\n",
    "The driver for this sensor is already included in the firmware on your **ESP8266** as a module named `hcsr04`.  The `hcsr04.HCSR04` class requires three input variables:\n",
    "- `trigger_pin`,  the GPIO pin on the ESP8266 corresponding to the **Trig** pin on the HCSR04\n",
    "- `echo_pin`,  the GPIO pin on the ESP8266 corresponding to the **Echo** pin on the HCSR04\n",
    "- `c`, the speed of sound to use to calculate distance\n",
    "\n",
    "We will begin by estimating that the speed of sound in water is **1500 meters per second**, so we will set our variable `c` to 300 and we can define our sensor using the following code:\n",
    "\n",
    "`import hcsr04\n",
    "sensor = hcsr04.HCSR04(trigger_pin = 12, echo_pin = 14, c = 1500)`\n",
    "\n",
    "\n",
    "## Measuring Distance\n",
    "Once your sensor variable is defined, you can take a measurement by executing the function `distance`:\n",
    "\n",
    "`sensor.distance()`\n",
    "\n",
    "Your ESP8266 should return a float value that corresponds to the distance of the object in front of the sensor in **millimeters**.  Try pointing your sensor at an object, moving it closer and further away while taking measurements to see how the value changes.\n",
    "\n",
    "## Bathymetry Measurements\n",
    "You will be using the HCSR04 to collect measurements of depth at a series of fixed positions along the dock.  Using the tape measure, start at the western corner of the dock and sample every 2 meters moving east.  At each sampling location, lower the transducer into the water to the tape mark indicating 10cm is at the surface.  Collect five samples at each fixed distance point.  Record your data in the following format:\n",
    "\n",
    "\n",
    "|Distance on Dock (m) | Depth (mm)|\n",
    "|----|----|\n",
    "|1| Measurement \\#1,  \\#2,  \\#3,  \\#4,  \\#5|\n",
    "|2| Measurement \\#1,  \\#2,  \\#3,  \\#4,  \\#5|\n",
    "|...|...|\n",
    "|*n*| Measurement \\#1,  \\#2,  \\#3,  \\#4,  \\#5|\n",
    "\n",
    "Are your measurements at every sampling locations consistent?  Do all of the values collected appear to be valid?\n",
    "\n",
    "Once your sample table is complete, create a plot of the bathymetry in *Canopy* using the Python code below.  For the depth value at each sampling location, take the median of the measurements at each distance that you believe to be correct in order to remove bad samples or noise.  "
   ]
  },
  {
   "cell_type": "code",
   "execution_count": null,
   "metadata": {},
   "outputs": [],
   "source": [
    "import matplotlib.pyplot as plt # Import the pyplot library\n",
    "import numpy as np # Import the numpy library\n",
    "\n",
    "# Create an array of values for the distance along the dock\n",
    "Distance = np.array([1, 2, 3, 4, 5, 6, 7, 8, 9, 10])\n",
    "# Create an array of values for the distance measured by the sensor (in mm)\n",
    "Depth = np.array([])\n",
    "# Add 10cm to the measurements to correct for the depth of the transducer\n",
    "Depth = Depth+100. \n",
    "plt.plot(Distance,Depth) # Plot the depth at each distance\n",
    "plt.ylim((0,max(Depth))) # Set the y-axis limits\n",
    "# Invert the y-axis so the water surface is at the top of the figure\n",
    "plt.gca().invert_yaxis() \n",
    "plt.xlabel('Distance (m)') # Label the x-axis\n",
    "plt.ylabel('Depth (mm)') # Label the y-axis\n",
    "plt.show() # Show the figure"
   ]
  },
  {
   "cell_type": "markdown",
   "metadata": {},
   "source": [
    "What features, if any, do you see along the bottom?  "
   ]
  }
 ],
 "metadata": {
  "kernelspec": {
   "display_name": "Python 3",
   "language": "python",
   "name": "python3"
  },
  "language_info": {
   "codemirror_mode": {
    "name": "ipython",
    "version": 3
   },
   "file_extension": ".py",
   "mimetype": "text/x-python",
   "name": "python",
   "nbconvert_exporter": "python",
   "pygments_lexer": "ipython3",
   "version": "3.6.6"
  }
 },
 "nbformat": 4,
 "nbformat_minor": 2
}
