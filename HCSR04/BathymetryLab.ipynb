{
 "cells": [
  {
   "cell_type": "markdown",
   "metadata": {},
   "source": [
    "# Mapping the Seafloor Using an HC-SR04 Ultrasonic Acoustic Sensor\n",
    "For this activity, you will be using a **HCSR04** 40 kHz ultrasonic sensor to determine the speed of sound in air.  This sensor sends out a pulse of sound through one transducer, and listens for the echo return in the second transducer.  Based on the delay between sending a receiving a signal, you will be able to measure the distance an object is away from the sensor.\n",
    "\n",
    "This excersice uses the waterproof transducer version of the HCSR04 ultrasonic acoustic sensor to create a rough bathymetric chart of a region of off a pier or dock.  This excercise was designed for use by the University of Washington Undergraduate Oceanography Program and the descriptions that follow reference conducting this excersice at the Marine Sciences Building dock.\n",
    "\n",
    "## Assembling your HCSR04 Sensor\n",
    "Begin by connecting your **HCSR04** to your **ESP8266**.  The HCSR04 sensor has 4 pins, *GND*, *VCC*, *trig*, and *echo*.  For this excercise, connect the *trig* pin on the HCSR04 to GPIO pin 12 on the ESP8266, and the *echo* pin to GPIO pin 14.  \n",
    "\n",
    "The driver for this sensor is already included in the firmware on your **ESP8266** as a module named `hcsr04`.  We can define our sensor using the following code: \n",
    "\n",
    "`import hcsr04\n",
    "sensor = hcsr04.HCSR04(trigger_pin = 12, echo_pin = 14, c = 1500)`\n",
    "\n",
    "The `hcsr04.HCSR04` class requires three input variable:\n",
    "- `trigger_pin`,  the GPIO pin on the ESP8266 corresponding to the **trig** pin on the HCSR04\n",
    "- `echo_pin`,  the GPIO pin on the ESP8266 corresponding to the **echo** pin on the HCSR04\n",
    "- `c`, the speed of sound to use to calculate distance\n",
    "\n",
    "We will proceed by estimating that the speed of sound in fresh water is **1500 meters per second**, so we will define our variable `c` as 1500.\n",
    "\n",
    "## Measuring Distance\n",
    "Once your sensor is defined, you can take a measurement by executing the function `distance`:\n",
    "\n",
    "`sensor.distance()`\n",
    "\n",
    "Your ESP8266 should return an integer value that corresponds to the distance of the object in front of the sensor in millimeters.  Try pointing your sensor at an object and moving it closer and further away from it while taking measurements to see how the value changes.\n",
    "\n",
    "How accurate do you think the value is if you use the sensor in air?\n",
    "\n",
    "## Bathymetry Measurements\n",
    "You will be using the HCSR04 to collect measurements of depth at a series of fixed positions along the dock.  Using the tape measure, collect and record samples in the following format:\n",
    "\n",
    "|Distance on Dock (m) | Depth (mm)|\n",
    "| :---:  |  :---: |\n",
    "|1| Meaurement \\#1,  \\#2,  \\#3,  \\#4,  \\#5|\n",
    "|2| Meaurement \\#1,  \\#2,  \\#3,  \\#4,  \\#5|\n",
    "|...|...|\n",
    "|*n*| Meaurement \\#1,  \\#2,  \\#3,  \\#4,  \\#5|\n",
    "\n",
    "Collect repeat samples at each fixed distance point.  Do all of the values collected appear to be valid?\n",
    "\n",
    "Once your sample table is complete, use Python to create a plot of the bathemetry based on the appropriate values.  What features, if any, do you see along the bottom?  Be sure to label your axes with the measurement units.  You can set the depth axis to resemble the bottom by flipping the axis by setting `plt.ylim(0,`maximum value `)`."
   ]
  },
  {
   "cell_type": "code",
   "execution_count": null,
   "metadata": {},
   "outputs": [],
   "source": []
  }
 ],
 "metadata": {
  "kernelspec": {
   "display_name": "Python 3",
   "language": "python",
   "name": "python3"
  },
  "language_info": {
   "codemirror_mode": {
    "name": "ipython",
    "version": 3
   },
   "file_extension": ".py",
   "mimetype": "text/x-python",
   "name": "python",
   "nbconvert_exporter": "python",
   "pygments_lexer": "ipython3",
   "version": "3.6.2"
  }
 },
 "nbformat": 4,
 "nbformat_minor": 2
}
