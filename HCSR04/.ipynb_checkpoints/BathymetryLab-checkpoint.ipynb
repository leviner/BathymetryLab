{
 "cells": [
  {
   "cell_type": "markdown",
   "metadata": {},
   "source": [
    "# Mapping the Seafloor Using an HC-SR04 Ultrasonic Acoustic Sensor\n",
    "For this activity, you will be using a **HCSR04** 40 kHz ultrasonic sensor to determine the bathymetry along the MSB dock.  The HCSR04 sensor sends out a pulse of sound through one transducer, and listens for the echo return in the second transducer.  Based on the delay between sending the signal and receiving an echo back, you will be able to determine how far away an object is from the sensor.\n",
    "\n",
    "This excersice uses the waterproof transducer version of the HCSR04 ultrasonic acoustic sensor to create a rough bathymetric chart of a region of off a pier or dock.  This excercise was designed for use by the University of Washington Undergraduate Oceanography Program and the descriptions that follow reference conducting this excersice at the Marine Sciences Building dock.\n",
    "\n",
    "## Assembling your HCSR04 Sensor\n",
    "Begin by connecting your **HCSR04** to your **ESP8266**.  The HCSR04 requires 5 volts, so for this excersize you will use your microcontroller in a breadboard, powered by the USB cable from your computer  The USB cable provides 5V to the board, which means we can use the *V+* pin on the ESP8266 to give 5V to the HCSR04.\n",
    "\n",
    "The HCSR04 sensor has 4 pins, *GND*, *VCC*, *Trig*, and *Echo*.  For this excercise, connect the *trig* pin on the HCSR04 to GPIO pin 12 on the ESP8266, and the *echo* pin to GPIO pin 14.  Connect *GND* to *GND* and *VCC* to *V+*.\n",
    "\n",
    "The driver for this sensor is already included in the firmware on your **ESP8266** as a module named `hcsr04`.  We can define our sensor using the following code: \n",
    "\n",
    "`import hcsr04\n",
    "sensor = hcsr04.HCSR04(trigger_pin = 12, echo_pin = 14, c = 300)`\n",
    "\n",
    "The `hcsr04.HCSR04` class requires three input variable:\n",
    "- `trigger_pin`,  the GPIO pin on the ESP8266 corresponding to the **trig** pin on the HCSR04\n",
    "- `echo_pin`,  the GPIO pin on the ESP8266 corresponding to the **echo** pin on the HCSR04\n",
    "- `c`, the speed of sound to use to calculate distance\n",
    "\n",
    "We will proceed by estimating that the speed of sound in fresh water is **1500 meters per second**, so we will define our variable `c` as 1500.\n",
    "\n",
    "## Measuring Distance\n",
    "Once your sensor is defined, you can take a measurement by executing the function `distance`:\n",
    "\n",
    "`sensor.distance()`\n",
    "\n",
    "Your ESP8266 should return an integer value that corresponds to the distance of the object in front of the sensor in **millimeters**.  Try pointing your sensor at an object and moving it closer and further away from it while taking measurements to see how the value changes.\n",
    "\n",
    "Test the limits of your sensor.  Does there appear to be a minimum distance you can measure?  Does there appear to be a maximum distance?  What happens when it seems like you might be too far away to take a measurement.\n",
    "\n",
    "How accurate do you think the value is if you use the sensor in air?\n",
    "\n",
    "## Bathymetry Measurements\n",
    "You will be using the HCSR04 to collect measurements of depth at a series of fixed positions along the dock.  Using the tape measure, collect and record samples in the following format:\n",
    "\n",
    "|Distance on Dock (m) | Depth (mm)|\n",
    "| :---:  |  :---: |\n",
    "|1| Meaurement \\#1,  \\#2,  \\#3,  \\#4,  \\#5|\n",
    "|2| Meaurement \\#1,  \\#2,  \\#3,  \\#4,  \\#5|\n",
    "|...|...|\n",
    "|*n*| Meaurement \\#1,  \\#2,  \\#3,  \\#4,  \\#5|\n",
    "\n",
    "Collect repeat samples at each fixed distance point.  Do all of the values collected appear to be valid?\n",
    "\n",
    "Once your sample table is complete, use Python to create a plot of the bathemetry based on the appropriate values TAKE THE MEDIAN OF THE VALUES YOU THINK ARE CORRECT.  Be sure to label your axes with the measurement units."
   ]
  },
  {
   "cell_type": "code",
   "execution_count": 2,
   "metadata": {},
   "outputs": [
    {
     "data": {
      "image/png": "[encoded data removed]",
      "text/plain": [
       "<matplotlib.figure.Figure at 0x1edc5f862b0>"
      ]
     },
     "metadata": {},
     "output_type": "display_data"
    }
   ],
   "source": [
    "import matplotlib.pyplot as plt\n",
    "import numpy as np\n",
    "Distance = np.array([1, 2, 3, 4, 5, 6, 7, 8, 9, 10])\n",
    "Depth = np.array([396.0, 397.0, 399.0, 400.0, 401.0, 406.0, 407.0, 404.0, 405.0, 411.0])\n",
    "plt.plot(Distance,Depth)\n",
    "plt.ylim((0,max(Depth)))\n",
    "plt.gca().invert_yaxis()\n",
    "plt.xlabel('Distance (m)')\n",
    "plt.ylabel('Depth (mm)')\n",
    "plt.show()"
   ]
  },
  {
   "cell_type": "markdown",
   "metadata": {},
   "source": [
    "What features, if any, do you see along the bottom?  "
   ]
  }
 ],
 "metadata": {
  "kernelspec": {
   "display_name": "Python 3",
   "language": "python",
   "name": "python3"
  },
  "language_info": {
   "codemirror_mode": {
    "name": "ipython",
    "version": 3
   },
   "file_extension": ".py",
   "mimetype": "text/x-python",
   "name": "python",
   "nbconvert_exporter": "python",
   "pygments_lexer": "ipython3",
   "version": "3.6.2"
  }
 },
 "nbformat": 4,
 "nbformat_minor": 2
}
