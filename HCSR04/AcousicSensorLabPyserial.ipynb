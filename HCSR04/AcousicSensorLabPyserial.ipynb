{
 "cells": [
  {
   "cell_type": "markdown",
   "metadata": {},
   "source": [
    "# Laboratory Exercise: Acoustic Sensors\n",
    "\n",
    "## Milestone Items\n",
    "The following are required to complete the milestone for this exercise:\n",
    "- Part 1\n",
    "    1. Submit to Canvas all three figures you generate using your three lists of values for speed of sound\n",
    "    2. Submit to Canvas the python code used to create the three figures\n",
    "- Part 2\n",
    "    1. Submit to Canvas your figure of the bathymetry along the dock\n",
    "    2. Submit to Canvas the python code used to create your figure\n",
    "    \n",
    "Provide a 2-3 sentence response addressing the questions proposed on the milestone.\n",
    "\n",
    "# Before we start...\n",
    "\n",
    "You will need to send the file **hcsr04v2.py** to your microcontroller using mpfshell or a similar tool of your preference. \n",
    "\n",
    "# Part 1: Determining the Speed of Sound in Air\n",
    "\n",
    "For this activity, you will be using a **HCSR04** 40 kHz ultrasonic sensor to determine the speed of sound in air.  This sensor sends out a pulse of sound, then listens for the echo return.  Based on the delay between sending the signal and receiving an echo back, you will be able to determine how far away an object is from the sensor.\n",
    "\n",
    "In this instance we are unsure of the speed of sound in air.  By collecting measurements at a known distance, we can see how changing the speed of sound affects the accuracy of distance the sensor measures, and narrow in on the correct value.  \n",
    "\n",
    "## Assembling the HCSR04 Sensor\n",
    "Begin by connecting your **HCSR04** to your **ESP8266**.  The HCSR04 requires 5 volts, so for this excersize you will use your microcontroller in a breadboard, powered by the USB cable from your computer.  The USB cable provides 5V to the board, which means we can use the *USB* pin on the ESP8266 to give 5V to the HCSR04.\n",
    "\n",
    "The HCSR04 sensor has 4 pins, *GND*, *VCC*, *Trig*, and *Echo*.  For this excercise, connect the *trig* pin on the HCSR04 to GPIO \\#12 on the ESP8266, and the *echo* pin to GPIO \\#14.  Connect *GND* to *GND* and *5V* to *USB*.\n",
    "\n",
    "## Estimating c\n",
    "\n",
    "We are now going to record a series of measurements at a known distance while adjusting sound speed (`c`) to determine the correct value.  "
   ]
  },
  {
   "cell_type": "markdown",
   "metadata": {},
   "source": [
    "Let's import the packages we'll need to work through the rest of the lab activity:"
   ]
  },
  {
   "cell_type": "code",
   "execution_count": null,
   "metadata": {},
   "outputs": [],
   "source": [
    "import serial # We will need the serial library to communicate with the sensor via USB\n",
    "from time import sleep # The 'sleep' function will tell python to wait to hear back from the board\n",
    "import matplotlib.pyplot as plt # We will use matplotlib to plot the data\n",
    "#This tells jupyter to show us the plot right in the notebook\n",
    "%matplotlib inline "
   ]
  },
  {
   "cell_type": "markdown",
   "metadata": {},
   "source": [
    "We're using a package called `pyserial` to talk to the microcontroller via USB.  **You will need to set the name of your COM port below.**  If you don't know it, you can check by using BeagleTerm. Edit then run the following cell:"
   ]
  },
  {
   "cell_type": "code",
   "execution_count": null,
   "metadata": {},
   "outputs": [],
   "source": [
    "ser = serial.Serial('YOUR COM PORT NAME HERE',baudrate=115200) # The first argument is the com port of your sensor"
   ]
  },
  {
   "cell_type": "markdown",
   "metadata": {},
   "source": [
    "Now that we can talk to our sensor through this notebook, we'll start by trying to import the library we need to run the sensor.  The driver for this sensor is the module named `hcsr04v2` that you just put on your microcontroller.  Read through then run the following cell:"
   ]
  },
  {
   "cell_type": "code",
   "execution_count": null,
   "metadata": {},
   "outputs": [],
   "source": [
    "ser.write(b'import hcsr04v2 \\r') # send 'import hcsr04' to the board\n",
    "sleep(1) # wait 1 second before checking for a response\n",
    "input_data = ser.read(ser.inWaiting()) # read the response\n",
    "if input_data.find(b'Error') != -1: # If the word 'Error' appears in the response\n",
    "    print('Import Failed, check serial command or libraries') # print fail message\n",
    "else: # if no 'Error'\n",
    "    print('Import Successful') # success!"
   ]
  },
  {
   "cell_type": "markdown",
   "metadata": {},
   "source": [
    "The `hcsr04v2.HCSR04` class requires three input variables:\n",
    "- `trigger_pin`,  the GPIO pin on the ESP8266 corresponding to the **Trig** pin on the HCSR04\n",
    "- `echo_pin`,  the GPIO pin on the ESP8266 corresponding to the **Echo** pin on the HCSR04\n",
    "- `c`, the speed of sound to use to calculate distance\n",
    "\n",
    "We're going to pass a command to the board that tells it how to use the acoustic sensor using the following code:\n",
    "\n",
    "`sensor = hcsr04v2.HCSR04(trigger_pin = 12, echo_pin = 14, c = 300)`\n",
    "\n",
    "### Step 1 - Define the arguments\n",
    "We can set up the arguments separately so they're easy to edit when we want to change them:"
   ]
  },
  {
   "cell_type": "code",
   "execution_count": null,
   "metadata": {},
   "outputs": [],
   "source": [
    "triggerPin = 12 #board pin number to 'Trig' on sensor\n",
    "echoPin = 14 #board pin number to 'Echo' on sensor\n",
    "soundSpeed = range(300,350,10) # a list of sound speeds, i.e., can be range() or [200]"
   ]
  },
  {
   "cell_type": "markdown",
   "metadata": {},
   "source": [
    "### Step 2 - Collecting measurements\n",
    "Now we'll send the setup to the board, and tell it to take a measurement and report back a distance for each value of sound speed we ask.  After defining the sound speed, we will use `sensor.distance()` to take a measurement.\n",
    "\n",
    "Your ESP8266 should return a float value that corresponds to the distance of the object in front of the sensor in **millimeters**.  Each line from the board will be echoed so we can see the results, and these numbers will get stored in a list.  Read then run the following cell to collect data points for your list of sound speeds:"
   ]
  },
  {
   "cell_type": "code",
   "execution_count": null,
   "metadata": {},
   "outputs": [],
   "source": [
    "distance = [] # empty list to put values in\n",
    "c = [] # empty list to put values in\n",
    "for speed in soundSpeed: # for each speed of sound value we previously defined...\n",
    "    command = 'sensor = hcsr04v2.HCSR04(trigger_pin = '+str(triggerPin)+', echo_pin = '+str(echoPin)+', c = '+str(speed)+')\\r'# setup the sensor with that speed of sound\n",
    "    ser.write(bytes(command, 'utf-8')) # send the command\n",
    "    ser.write(b'sensor.distance()\\r') # take a distance measurement\n",
    "    sleep(.5) # wait .5 seconds for the microcontroller to respond\n",
    "    input_data = ser.read(ser.inWaiting()) # read the response\n",
    "    print('Command Sent: '+ str(input_data).split('\\\\r\\\\n>>')[0]) # print out what we sent\n",
    "    print('Distance measured: ',float(str(input_data).split('\\\\n')[2][:-2])) # print out what it returned\n",
    "    distance.append(float(str(input_data).split('\\\\n')[2][:-2])) # add the distance value to our list\n",
    "    c.append(float(str(input_data).split('\\\\n')[0].split('c = ')[-1][:-3])) # add the sound speed value to our list"
   ]
  },
  {
   "cell_type": "markdown",
   "metadata": {},
   "source": [
    "### Step 3 - Plot the measurements\n",
    "\n",
    "Fill in the missing information below in order to plot how distance measured changes as a function of sound speed:"
   ]
  },
  {
   "cell_type": "code",
   "execution_count": null,
   "metadata": {},
   "outputs": [],
   "source": [
    "setDistance =  # The known distance\n",
    "plt.plot(c,distance)\n",
    "plt.xlabel('c')\n",
    "plt.ylabel('distance (mm)')\n",
    "plt.axhline(y=setDistance,linestyle = '--',color = 'g')"
   ]
  },
  {
   "cell_type": "markdown",
   "metadata": {},
   "source": [
    "Based on the intercept of the dashed line (your known distance) and the solid line (the measured distance at sound speed *c*), create a new list of values for `c` at a finer resolution (intervals of 5?  intervals of 3?) that will help you zoom in on the `c` value of that intercept.\n",
    "\n",
    "Repeat **Step 1 - Step 3**, each time changing the values used for sound speed, and determine a new set of vales for `distance`. \n",
    "\n",
    "Try increasing the resolution of  `c` one more time, trying values with an interval of 1.  Again, define a new set of values for `c` on your ESP8266 and determine a new set of vales for `distance`.  Create a third figure with the data.\n",
    "\n",
    "If you run the sensor again at this resolution without changing the speed of sound values, do the distances change?  What is the variability, and what might be causing it?\n",
    "\n",
    "Based on the data and figures, what do you estimate the speed of sound in air to be?  What do you notice about the variability in the distance measurements as you increase the resolution of your `c` list?  What would you do to improve accuracy of your measurement?\n",
    "\n",
    "Now that you have a more accurate value for the speed of sound, test the limits of your sensor by adjusting the values in **Step 1** and running the code in **Step 2**.  Does there appear to be a minimum distance you can measure?  Does there appear to be a maximum distance?  What happens when it seems like you might be too far away or too close to take a measurement?"
   ]
  },
  {
   "cell_type": "markdown",
   "metadata": {},
   "source": [
    "# Part 2: Mapping the Seafloor\n",
    "\n",
    "For this activity, you will be using a **HCSR04** 40 kHz ultrasonic sensor to determine the bathymetry along the MSB dock.  The HCSR04 sensor sends out a pulse of sound through one transducer, and listens for the echo return in the second transducer.  Based on the delay between sending the signal and receiving an echo back, you will be able to determine how far away an object is from the sensor.\n",
    "\n",
    "This activity uses the waterproof transducer version of the HCSR04 ultrasonic acoustic sensor to create a rough bathymetric chart of a region of off a pier or dock.  For this excercise you will collect measurements of the depth to the seafloor along the Marine Sciences Building dock with 1 meter spacing.\n",
    "\n",
    "## Bathymetry Measurements\n",
    "You will be using the HCSR04 to collect measurements of depth at a series of fixed positions along the dock.\n",
    "\n",
    "### Setting the Sound Speed\n",
    "First, we need to define the sound speed of the water so we can get a correct measure from distance.  Recall from Part 1 that slight changes in sound speed affect the distance calculated.  We'll define sound speed as the following:\n"
   ]
  },
  {
   "cell_type": "code",
   "execution_count": null,
   "metadata": {},
   "outputs": [],
   "source": [
    "soundSpeed = [1440] # a list of sound speeds, i.e., can be range() or [200]"
   ]
  },
  {
   "cell_type": "markdown",
   "metadata": {},
   "source": [
    "### Prepare to Store the Data\n",
    "\n",
    "Now let's get set up to take some measurements.  We're going to store the measurements in a python dictionary, so let's make an empty one:"
   ]
  },
  {
   "cell_type": "code",
   "execution_count": null,
   "metadata": {},
   "outputs": [],
   "source": [
    "allSamples = {} # let's make an empty dictionary that we'll fill"
   ]
  },
  {
   "cell_type": "markdown",
   "metadata": {},
   "source": [
    "### Set up the Sensor\n",
    "\n",
    "Like in Part 1, we're going to have to tell the microcontroller where the acoustic sensor is plugged in, we we can define those two pins below:"
   ]
  },
  {
   "cell_type": "code",
   "execution_count": null,
   "metadata": {},
   "outputs": [],
   "source": [
    "triggerPin = 12 #board pin number to 'Trig' on sensor\n",
    "echoPin = 14 #board pin number to 'Echo' on sensor"
   ]
  },
  {
   "cell_type": "markdown",
   "metadata": {},
   "source": [
    "To actually take the measurements, we're going to use `pySerial` like in Part 1.  The following function will be used to send those commands and return a measurement which will be stored in the dictionary we just created. Read through the function below so you understand what is being done, and run the cell so that we can use it. "
   ]
  },
  {
   "cell_type": "code",
   "execution_count": null,
   "metadata": {},
   "outputs": [],
   "source": [
    "def dist(triggerPin,echoPin,soundSpeed,site,allSamples): #We give the function the pins for the board, soundspeed, measurement site, and our dictionary\n",
    "    for speed in soundSpeed: # for each sound speed (here, only for the 1 value)\n",
    "        command = 'sensor = hcsr04v2.HCSR04(trigger_pin = '+str(triggerPin)+', echo_pin = '+str(echoPin)+', c = '+str(speed)+')\\r' # set up the sensor on the microcontroller\n",
    "        ser.write(bytes(command, 'utf-8')) # send the command\n",
    "        ser.write(b'sensor.distance()\\r') # take a distance measurement\n",
    "        sleep(.5) # wait for .5 seconds for the sensor to respond\n",
    "        input_data = ser.read(ser.inWaiting()) # read the response\n",
    "        print('Command Sent: '+ str(input_data).split('\\\\r\\\\n>>')[0]) # print out what we sent\n",
    "        print('Distance measured: ',float(str(input_data).split('\\\\n')[2][:-2])) # print out the response\n",
    "        if site in allSamples: # if the site number is already a key in the dictionary...\n",
    "            allSamples[site].append(float(str(input_data).split('\\\\n')[2][:-2])+100) # append the new measurement to that site list\n",
    "        else: # if this is a new site and doesn't have a key yet...\n",
    "            allSamples[site] = [float(str(input_data).split('\\\\n')[2][:-2])+100] # make a new key and give it the measurement value\n",
    "        return allSamples # send us back the updated dictionary"
   ]
  },
  {
   "cell_type": "markdown",
   "metadata": {},
   "source": [
    "### Collecting Data\n",
    "\n",
    "Following the tape measure, walk along the dock and take a measurements at the sites spaced 1 meter apart.  Lower the transducer into the water to the tape mark indicating 10cm is at the surface.\n",
    "\n",
    "Start by setting the site number (which is the same as the meter marker on the tape measure, i.e., 10 meters is site 10):"
   ]
  },
  {
   "cell_type": "code",
   "execution_count": null,
   "metadata": {},
   "outputs": [],
   "source": [
    "site = 1 # Change this value for each site"
   ]
  },
  {
   "cell_type": "markdown",
   "metadata": {},
   "source": [
    "Next, use the code cell below to collect a sample, and repeat to collect 5 samples at each site.  Do all of the values collected appear to be similar?  Do you think they are correct?"
   ]
  },
  {
   "cell_type": "code",
   "execution_count": null,
   "metadata": {},
   "outputs": [],
   "source": [
    "allSamples = dist(triggerPin,echoPin,soundSpeed,site,allSamples)\n",
    "print('Measurements for Site '+ str(site), allSamples[site])"
   ]
  },
  {
   "cell_type": "markdown",
   "metadata": {},
   "source": [
    "We can look at the entire dictionary by running the cell below:"
   ]
  },
  {
   "cell_type": "code",
   "execution_count": null,
   "metadata": {},
   "outputs": [],
   "source": [
    "print(allSamples)"
   ]
  },
  {
   "cell_type": "markdown",
   "metadata": {},
   "source": [
    "In case you take a measurement by mistake and need to remove it, you can use `allSamples[`*Site Number*`].remove(`*Bad Value*`)` to remove it from the site key.\n",
    "\n",
    "Once your sample table is complete, create a plot using the cell below.  Add a title and axis labels."
   ]
  },
  {
   "cell_type": "code",
   "execution_count": null,
   "metadata": {},
   "outputs": [],
   "source": [
    "plt.plot(list(allSamples.keys()),list(allSamples.values()),'.b')\n",
    "plt.gca().invert_yaxis()"
   ]
  },
  {
   "cell_type": "markdown",
   "metadata": {},
   "source": [
    "If you have time, try making a new plot using the data in your dictionary that shows the median of the measurements at each distance that you believe to be correct in order to remove noise.  "
   ]
  }
 ],
 "metadata": {
  "kernelspec": {
   "display_name": "Python 3",
   "language": "python",
   "name": "python3"
  },
  "language_info": {
   "codemirror_mode": {
    "name": "ipython",
    "version": 3
   },
   "file_extension": ".py",
   "mimetype": "text/x-python",
   "name": "python",
   "nbconvert_exporter": "python",
   "pygments_lexer": "ipython3",
   "version": "3.6.6"
  }
 },
 "nbformat": 4,
 "nbformat_minor": 2
}
